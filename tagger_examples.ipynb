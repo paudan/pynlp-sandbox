{
 "cells": [
  {
   "cell_type": "code",
   "execution_count": 2,
   "metadata": {
    "collapsed": true
   },
   "outputs": [],
   "source": [
    "from taggers import Taggers\n",
    "taggers_ = Taggers()"
   ]
  },
  {
   "cell_type": "code",
   "execution_count": 3,
   "metadata": {},
   "outputs": [
    {
     "data": {
      "text/plain": [
       "[('Pierre', 'NNP'),\n",
       " ('Vinken,', 'NNP'),\n",
       " ('61', 'CD'),\n",
       " ('years', 'NNS'),\n",
       " ('old,', 'RB'),\n",
       " ('will', 'MD'),\n",
       " ('join', 'VB'),\n",
       " ('the', 'DT'),\n",
       " ('board', 'NN'),\n",
       " ('as', 'IN'),\n",
       " ('a', 'DT'),\n",
       " ('nonexecutive', 'JJ'),\n",
       " ('director', 'NN'),\n",
       " ('November', 'NNP'),\n",
       " ('29.', 'CD')]"
      ]
     },
     "execution_count": 3,
     "metadata": {},
     "output_type": "execute_result"
    }
   ],
   "source": [
    "en_pos_tagger = taggers_.get_maxent_postagger('en')\n",
    "en_pos_tagger.tag(\"Pierre Vinken, 61 years old, will join the board as a nonexecutive director November 29.\")"
   ]
  },
  {
   "cell_type": "code",
   "execution_count": 4,
   "metadata": {},
   "outputs": [
    {
     "data": {
      "text/plain": [
       "[('Pierre', 'NNP'),\n",
       " ('Vinken,', 'NNP'),\n",
       " ('61', 'CD'),\n",
       " ('years', 'NNS'),\n",
       " ('old,', '``'),\n",
       " ('will', 'MD'),\n",
       " ('join', 'VB'),\n",
       " ('the', 'DT'),\n",
       " ('board', 'NN'),\n",
       " ('as', 'IN'),\n",
       " ('a', 'DT'),\n",
       " ('nonexecutive', 'JJ'),\n",
       " ('director', 'NN'),\n",
       " ('November', 'NNP'),\n",
       " ('29.', 'CD')]"
      ]
     },
     "execution_count": 4,
     "metadata": {},
     "output_type": "execute_result"
    }
   ],
   "source": [
    "en_pos_tagger = taggers_.get_perceptron_postagger('en')\n",
    "en_pos_tagger.tag(\"Pierre Vinken, 61 years old, will join the board as a nonexecutive director November 29.\")"
   ]
  },
  {
   "cell_type": "code",
   "execution_count": 6,
   "metadata": {},
   "outputs": [
    {
     "data": {
      "text/plain": [
       "[('Afdracht', 'N'), ('pensioenpremie', 'N')]"
      ]
     },
     "execution_count": 6,
     "metadata": {},
     "output_type": "execute_result"
    }
   ],
   "source": [
    "nl_pos_tagger = taggers_.get_maxent_postagger('nl')\n",
    "nl_pos_tagger.tag(\"Afdracht pensioenpremie\")"
   ]
  },
  {
   "cell_type": "code",
   "execution_count": 7,
   "metadata": {},
   "outputs": [
    {
     "data": {
      "text/plain": [
       "[('Res.', 'Adj'), ('Huur', 'N'), ('Hoedemakersstraat', 'N')]"
      ]
     },
     "execution_count": 7,
     "metadata": {},
     "output_type": "execute_result"
    }
   ],
   "source": [
    "nl_pos_tagger = taggers_.get_perceptron_postagger('nl')\n",
    "nl_pos_tagger.tag(\"Res. Huur Hoedemakersstraat\")"
   ]
  },
  {
   "cell_type": "code",
   "execution_count": 1,
   "metadata": {},
   "outputs": [
    {
     "name": "stdout",
     "output_type": "stream",
     "text": [
      "('Lemma:', 'havenplaats')\n",
      "('POS:', 'noun')\n"
     ]
    }
   ],
   "source": [
    "from OpenDutchWordnet import Wn_grid_parser\n",
    "instance = Wn_grid_parser(Wn_grid_parser.odwn)\n",
    "le_el = instance.les_find_le(\"havenplaats-n-1\")\n",
    "print('Lemma:', le_el.get_lemma())\n",
    "print('POS:', le_el.get_pos())"
   ]
  }
 ],
 "metadata": {
  "kernelspec": {
   "display_name": "Python 2",
   "language": "python",
   "name": "python2"
  },
  "language_info": {
   "codemirror_mode": {
    "name": "ipython",
    "version": 2
   },
   "file_extension": ".py",
   "mimetype": "text/x-python",
   "name": "python",
   "nbconvert_exporter": "python",
   "pygments_lexer": "ipython2",
   "version": "2.7.13"
  }
 },
 "nbformat": 4,
 "nbformat_minor": 1
}
